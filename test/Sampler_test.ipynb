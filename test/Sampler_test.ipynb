{
 "cells": [
  {
   "cell_type": "code",
   "execution_count": 1,
   "metadata": {},
   "outputs": [],
   "source": [
    "import torch #基本モジュール\n",
    "from torch.autograd import Variable #自動微分用\n",
    "import torch.nn as nn #ネットワーク構築用\n",
    "import torch.optim as optim #最適化関数\n",
    "import torch.nn.functional as F #ネットワーク用の様々な関数\n",
    "import torch.utils.data #データセット読み込み関連\n",
    "import torchvision #画像関連\n",
    "from torchvision import datasets, models, transforms #画像用データセット諸々\n",
    "\n",
    "import numpy as np\n",
    "import argparse"
   ]
  },
  {
   "cell_type": "code",
   "execution_count": 9,
   "metadata": {},
   "outputs": [
    {
     "data": {
      "text/plain": [
       "(tensor([5., 6., 7., 8., 9.]), tensor([5., 6., 7., 8., 9.]))"
      ]
     },
     "execution_count": 9,
     "metadata": {},
     "output_type": "execute_result"
    }
   ],
   "source": [
    "inps = torch.arange(10 * 5, dtype=torch.float32).view(10, 5)\n",
    "tgts = torch.arange(10 * 5, dtype=torch.float32).view(10, 5)\n",
    "dataset = torch.utils.data.TensorDataset(inps, tgts)\n",
    "dataset[1]"
   ]
  },
  {
   "cell_type": "code",
   "execution_count": 25,
   "metadata": {},
   "outputs": [
    {
     "data": {
      "text/plain": [
       "(tensor([25., 26., 27., 28., 29.]), tensor([25., 26., 27., 28., 29.]))"
      ]
     },
     "execution_count": 25,
     "metadata": {},
     "output_type": "execute_result"
    }
   ],
   "source": [
    "indices = torch.arange(10)\n",
    "A = indices[:5]\n",
    "B = indices[5:]\n",
    "set = torch.utils.data.Subset(dataset, B)\n",
    "set[0]"
   ]
  },
  {
   "cell_type": "code",
   "execution_count": 33,
   "metadata": {},
   "outputs": [
    {
     "data": {
      "text/plain": [
       "<torch.utils.data.dataloader.DataLoader at 0x223fad6e320>"
      ]
     },
     "execution_count": 33,
     "metadata": {},
     "output_type": "execute_result"
    }
   ],
   "source": [
    "loader = torch.utils.data.DataLoader(set, batch_size=2,\n",
    "                                          shuffle=False, num_workers=2)\n",
    "loader"
   ]
  },
  {
   "cell_type": "code",
   "execution_count": 34,
   "metadata": {},
   "outputs": [
    {
     "name": "stdout",
     "output_type": "stream",
     "text": [
      "[tensor([[25., 26., 27., 28., 29.],\n",
      "        [30., 31., 32., 33., 34.]]), tensor([[25., 26., 27., 28., 29.],\n",
      "        [30., 31., 32., 33., 34.]])]\n",
      "[tensor([[35., 36., 37., 38., 39.],\n",
      "        [40., 41., 42., 43., 44.]]), tensor([[35., 36., 37., 38., 39.],\n",
      "        [40., 41., 42., 43., 44.]])]\n",
      "[tensor([[45., 46., 47., 48., 49.]]), tensor([[45., 46., 47., 48., 49.]])]\n"
     ]
    }
   ],
   "source": [
    "for d in loader:\n",
    "    print(d)"
   ]
  },
  {
   "cell_type": "code",
   "execution_count": 84,
   "metadata": {},
   "outputs": [
    {
     "name": "stdout",
     "output_type": "stream",
     "text": [
      "A [0 1 2 3 4]\n",
      "B [5 6 7 8 9]\n",
      "A [0 3 4 5 6]\n",
      "B [7 8 1 2 9]\n",
      "A [0 5 6 7 8]\n",
      "B [1 2 3 4 9]\n",
      "A [0 7 8 1 2]\n",
      "B [3 4 5 6 9]\n",
      "A [0 1 2 3 4]\n",
      "B [5 6 7 8 9]\n",
      "A [0 3 4 5 6]\n",
      "B [7 8 1 2 9]\n",
      "A [0 5 6 7 8]\n",
      "B [1 2 3 4 9]\n",
      "A [0 7 8 1 2]\n",
      "B [3 4 5 6 9]\n",
      "A [0 1 2 3 4]\n",
      "B [5 6 7 8 9]\n",
      "A [0 3 4 5 6]\n",
      "B [7 8 1 2 9]\n",
      "A [0 5 6 7 8]\n",
      "B [1 2 3 4 9]\n",
      "A [0 7 8 1 2]\n",
      "B [3 4 5 6 9]\n",
      "A [0 1 2 3 4]\n",
      "B [5 6 7 8 9]\n",
      "A [0 3 4 5 6]\n",
      "B [7 8 1 2 9]\n",
      "A [0 5 6 7 8]\n",
      "B [1 2 3 4 9]\n",
      "A [0 7 8 1 2]\n",
      "B [3 4 5 6 9]\n",
      "A [0 1 2 3 4]\n",
      "B [5 6 7 8 9]\n",
      "A [0 3 4 5 6]\n",
      "B [7 8 1 2 9]\n",
      "A [0 5 6 7 8]\n",
      "B [1 2 3 4 9]\n",
      "A [0 7 8 1 2]\n",
      "B [3 4 5 6 9]\n",
      "A [0 1 2 3 4]\n",
      "B [5 6 7 8 9]\n",
      "A [0 3 4 5 6]\n",
      "B [7 8 1 2 9]\n",
      "A [0 5 6 7 8]\n",
      "B [1 2 3 4 9]\n",
      "A [0 7 8 1 2]\n",
      "B [3 4 5 6 9]\n",
      "A [0 1 2 3 4]\n",
      "B [5 6 7 8 9]\n",
      "A [0 3 4 5 6]\n",
      "B [7 8 1 2 9]\n",
      "A [0 5 6 7 8]\n",
      "B [1 2 3 4 9]\n",
      "A [0 7 8 1 2]\n",
      "B [3 4 5 6 9]\n",
      "A [0 1 2 3 4]\n",
      "B [5 6 7 8 9]\n",
      "A [0 3 4 5 6]\n",
      "B [7 8 1 2 9]\n"
     ]
    }
   ],
   "source": [
    "N = 5\n",
    "indices = np.arange(2 * N)\n",
    "A = indices[:N]\n",
    "B = indices[N:]\n",
    "for epoch in range(30):\n",
    "    print(\"A\", A)\n",
    "    print(\"B\", B)\n",
    "    \n",
    "    A_loader = torch.utils.data.DataLoader(\n",
    "        torch.utils.data.Subset(dataset, A), batch_size=2)\n",
    "    B_loader = torch.utils.data.DataLoader(\n",
    "        torch.utils.data.Subset(dataset, B), batch_size=2)\n",
    "    testA = np.array([True, False, False, True, True])\n",
    "    testB = np.array([True, True, False, False, True])\n",
    "    \n",
    "    A_o, A_x = A[testA], A[np.logical_not(testA)]\n",
    "    B_o, B_x = B[testB], B[np.logical_not(testB)]\n",
    "    s = min(len(A_x), len(B_o))\n",
    "    A = np.concatenate([A_o, B_o[:s], A_x[s:]])\n",
    "    B = np.concatenate([B_x, A_x[:s], B_o[s:]])"
   ]
  },
  {
   "cell_type": "code",
   "execution_count": 73,
   "metadata": {},
   "outputs": [
    {
     "data": {
      "text/plain": [
       "[1, 3, 2, 2]"
      ]
     },
     "execution_count": 73,
     "metadata": {},
     "output_type": "execute_result"
    }
   ],
   "source": [
    "[1, 3] + [2, 2]"
   ]
  },
  {
   "cell_type": "code",
   "execution_count": 80,
   "metadata": {},
   "outputs": [
    {
     "data": {
      "text/plain": [
       "array([0, 1, 3, 4])"
      ]
     },
     "execution_count": 80,
     "metadata": {},
     "output_type": "execute_result"
    }
   ],
   "source": [
    "np.concatenate([A[:2], A[-2:]])"
   ]
  },
  {
   "cell_type": "code",
   "execution_count": 86,
   "metadata": {},
   "outputs": [
    {
     "name": "stdout",
     "output_type": "stream",
     "text": [
      "{'p': 1}\n"
     ]
    }
   ],
   "source": [
    "def A(d):\n",
    "    d[\"p\"] = 1\n",
    "\n",
    "d = {\"p\" : 2}\n",
    "A(d)\n",
    "print(d)"
   ]
  },
  {
   "cell_type": "code",
   "execution_count": 88,
   "metadata": {},
   "outputs": [
    {
     "data": {
      "text/plain": [
       "[1]"
      ]
     },
     "execution_count": 88,
     "metadata": {},
     "output_type": "execute_result"
    }
   ],
   "source": []
  },
  {
   "cell_type": "code",
   "execution_count": null,
   "metadata": {},
   "outputs": [],
   "source": []
  }
 ],
 "metadata": {
  "kernelspec": {
   "display_name": "Python 3",
   "language": "python",
   "name": "python3"
  },
  "language_info": {
   "codemirror_mode": {
    "name": "ipython",
    "version": 3
   },
   "file_extension": ".py",
   "mimetype": "text/x-python",
   "name": "python",
   "nbconvert_exporter": "python",
   "pygments_lexer": "ipython3",
   "version": "3.7.3"
  }
 },
 "nbformat": 4,
 "nbformat_minor": 2
}
