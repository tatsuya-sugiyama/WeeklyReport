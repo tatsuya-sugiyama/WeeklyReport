{
 "cells": [
  {
   "cell_type": "code",
   "execution_count": 64,
   "metadata": {},
   "outputs": [],
   "source": [
    "#!/usr/bin/python\n",
    "# coding: UTF-8\n",
    "import numpy as np\n",
    "import os\n",
    "import re\n",
    "\n",
    "def parse_log(path):\n",
    "    results = []\n",
    "\n",
    "    with open(path, encoding=\"utf-8\") as f:\n",
    "        line = f.readline() # 1行を文字列として読み込む(改行文字も含まれる)\n",
    "\n",
    "        result = None\n",
    "        while line:\n",
    "            if \"[system] start\" in line:\n",
    "                result = []\n",
    "                result.append(line)\n",
    "                results.append(result)\n",
    "            elif result != None:\n",
    "                result.append(line)\n",
    "\n",
    "            line = f.readline()\n",
    "            \n",
    "    os.makedirs(\"log\", exist_ok=True)\n",
    "\n",
    "    for result in results:\n",
    "        date = \"_\".join(result[0].split(\" \")[:2]).replace(\":\", \"-\")\n",
    "        desc = \" \" + re.sub(r'[\\\\/:*?\"<>|]+','',result[1].split(\"[meta]\")[1].strip()) \\\n",
    "            if len(result) > 1 and \"[meta]\" in result[1] else \"\"\n",
    "        path_w = r\"log\\%s%s.txt\" % (date, desc)\n",
    "        print(path_w)\n",
    "        with open(path_w, mode='w', encoding=\"utf-8\") as f:\n",
    "            f.writelines(result)"
   ]
  },
  {
   "cell_type": "code",
   "execution_count": 66,
   "metadata": {},
   "outputs": [
    {
     "name": "stdout",
     "output_type": "stream",
     "text": [
      "log\\2020-05-06_10-06-18,513 データを分割して交換しないアルゴリズム  ベースライン  deep cnn.txt\n",
      "log\\2020-05-06_10-30-50,230 データを分割して交換しないアルゴリズム  ベースライン  deep cnn.txt\n",
      "log\\2020-05-06_11-00-30,807 データを分割して交換しないアルゴリズム  ベースライン  deep cnn.txt\n",
      "log\\2020-05-06_11-06-51,731 データを分割して交換しないアルゴリズム  ベースライン  deep cnn.txt\n",
      "log\\2020-05-06_11-10-50,104 データを分割して交換しないアルゴリズム  ベースライン  deep cnn.txt\n",
      "log\\2020-05-06_11-14-30,909 データを分割して交換しないアルゴリズム  ベースライン  deep cnn.txt\n",
      "log\\2020-05-06_12-30-59,693 データを分割して交換するアルゴリズム  main  deep cnn.txt\n"
     ]
    }
   ],
   "source": [
    "parse_log(\"log-2020_05_07.txt\")"
   ]
  },
  {
   "cell_type": "code",
   "execution_count": 48,
   "metadata": {},
   "outputs": [
    {
     "data": {
      "text/plain": [
       "'log\\\\ta.txt'"
      ]
     },
     "execution_count": 48,
     "metadata": {},
     "output_type": "execute_result"
    }
   ],
   "source": [
    "r\"log\\t%s.txt\" % \"a\""
   ]
  },
  {
   "cell_type": "code",
   "execution_count": null,
   "metadata": {},
   "outputs": [],
   "source": []
  }
 ],
 "metadata": {
  "kernelspec": {
   "display_name": "Python 3",
   "language": "python",
   "name": "python3"
  },
  "language_info": {
   "codemirror_mode": {
    "name": "ipython",
    "version": 3
   },
   "file_extension": ".py",
   "mimetype": "text/x-python",
   "name": "python",
   "nbconvert_exporter": "python",
   "pygments_lexer": "ipython3",
   "version": "3.7.3"
  }
 },
 "nbformat": 4,
 "nbformat_minor": 2
}
