{
 "cells": [
  {
   "cell_type": "code",
   "execution_count": 1,
   "metadata": {},
   "outputs": [],
   "source": [
    "import torch #基本モジュール\n",
    "from torch.autograd import Variable #自動微分用\n",
    "import torch.nn as nn #ネットワーク構築用\n",
    "import torch.optim as optim #最適化関数\n",
    "import torch.nn.functional as F #ネットワーク用の様々な関数\n",
    "import torch.utils.data #データセット読み込み関連\n",
    "import torchvision #画像関連\n",
    "from torchvision import datasets, models, transforms #画像用データセット諸々\n",
    "\n",
    "import numpy as np\n",
    "import argparse\n",
    "import json\n",
    "from logging.config import dictConfig\n",
    "from logging import getLogger\n",
    "import os\n",
    "import time"
   ]
  },
  {
   "cell_type": "code",
   "execution_count": 2,
   "metadata": {},
   "outputs": [],
   "source": [
    "class CNN(nn.Module):\n",
    "    def __init__(self):\n",
    "        super(CNN, self).__init__()\n",
    "        self.conv1 = nn.Conv2d(3, 6, 5) # [3, 32, 32] => [6, 28, 28]\n",
    "        self.conv2 = nn.Conv2d(6, 16, 5) # [6, 28, 28] => [16, 24, 24]\n",
    "        self.pool = nn.MaxPool2d(2, 2) # [N,C,H,W] => [N, C, H/2, W/2]\n",
    "        self.fc1 = nn.Linear(16 * 5 * 5, 120) # \n",
    "        self.fc2 = nn.Linear(120, 84)\n",
    "        self.fc3 = nn.Linear(84, 10)\n",
    "\n",
    "    def forward(self, x):\n",
    "        x = F.relu(self.conv1(x))\n",
    "        x = self.pool(x)\n",
    "        x = F.relu(self.conv2(x))\n",
    "        x = self.pool(x)\n",
    "        x = x.view(-1, 16 * 5 * 5)\n",
    "        x = F.relu(self.fc1(x))\n",
    "        x = F.relu(self.fc2(x))\n",
    "        x = self.fc3(x)\n",
    "        return x"
   ]
  },
  {
   "cell_type": "code",
   "execution_count": 3,
   "metadata": {},
   "outputs": [],
   "source": [
    "def train(model, device, train_loader, optimizer, criterion, logger):\n",
    "    model.train()\n",
    "    for batch_idx, (data, target) in enumerate(train_loader):\n",
    "        data, target = data.to(device), target.to(device)\n",
    "        optimizer.zero_grad()\n",
    "        output = model(data)\n",
    "        loss = criterion(output, target)\n",
    "        loss.backward()\n",
    "        optimizer.step()\n",
    "        if batch_idx % 100 == 0:\n",
    "            logger.debug(\"[train] batch : %s/%s (%.0f%%),\\tloss : %.6f\",\n",
    "                batch_idx * len(data), len(train_loader.dataset),\n",
    "                100. * batch_idx / len(train_loader), loss.item())\n",
    "    return (None, loss.item())"
   ]
  },
  {
   "cell_type": "code",
   "execution_count": 4,
   "metadata": {},
   "outputs": [],
   "source": [
    "def test(model, device, test_loader, criterion, logger):\n",
    "    model.eval()\n",
    "    test_loss = []\n",
    "    correct = 0\n",
    "    result = []\n",
    "    with torch.no_grad():\n",
    "        for batch_idx, (data, target) in enumerate(test_loader):\n",
    "            data, target = data.to(device), target.to(device)\n",
    "            output = model(data)\n",
    "            test_loss.append(criterion(output, target).item())  # sum up batch loss\n",
    "            pred = output.argmax(dim=1, keepdim=True)  # get the index of the max log-probability\n",
    "            correct += pred.eq(target.view_as(pred)).sum().item()\n",
    "            result += torch.eq(torch.max(output, 1).indices, target)\n",
    "            \n",
    "    logger.debug(\"[dump] %s\", test_loss)\n",
    "    test_loss = np.mean(np.array(test_loss))\n",
    "    accuracy = 100. * correct / len(test_loader.dataset)\n",
    "    \n",
    "    logger.debug(\"[test] ave loss : %.4f,\\taccu : %d/%d(%.0f%%)\",\n",
    "        test_loss, correct, len(test_loader.dataset), accuracy)\n",
    "    \n",
    "    return (torch.tensor(result).numpy(), (test_loss, accuracy))"
   ]
  },
  {
   "cell_type": "code",
   "execution_count": 7,
   "metadata": {
    "scrolled": true
   },
   "outputs": [
    {
     "name": "stderr",
     "output_type": "stream",
     "text": [
      "[system] start\n",
      "[meta] データを分割して交換するアルゴリズム\n",
      "[param] batch_size=16\n",
      "[param] epochs=1\n",
      "[param] lr=0.001\n",
      "[param] momentum=0.9\n",
      "[param] dataset=cifar10\n",
      "[param] model=cnn\n",
      "[param] optimizer=sgd\n",
      "[param] criterion=cross_entropy_loss\n",
      "[param] save_model=False\n",
      "[device] cpu\n"
     ]
    },
    {
     "name": "stdout",
     "output_type": "stream",
     "text": [
      "Files already downloaded and verified\n"
     ]
    },
    {
     "name": "stderr",
     "output_type": "stream",
     "text": [
      "[system] epoch 0\n",
      "[system] train_a -> test_b\n",
      "[system] train_b -> test_a\n",
      "[stat] X train loss : [1.7897357940673828]\n",
      "[stat] X test loss : [2.0386693585170663]\n",
      "[stat] Y train loss : [2.214972972869873]\n",
      "[stat] Y test loss : [2.2158003693883876]\n",
      "[stat] X accuracy : [26.544]\n",
      "[stat] Y accuracy : [20.844]\n",
      "[stat] elapsed time : 69.36411929130554[s]\n",
      "[system] finish\n"
     ]
    }
   ],
   "source": [
    "def main():\n",
    "    with open('logging.json') as f:\n",
    "        dictConfig(json.load(f))\n",
    "    logger = getLogger('env')\n",
    "    logger.debug(\"<\" * 40)\n",
    "    logger.info(\"[system] start\")\n",
    "    logger.info(\"[meta] データを分割して交換するアルゴリズム\")\n",
    "    \n",
    "    start_time = time.time()\n",
    "\n",
    "    def fetch_args(args=[]):\n",
    "        parser = argparse.ArgumentParser(description='PyTorch MNIST Example')\n",
    "        parser.add_argument('--batch-size', type=int, default=64, metavar='N',\n",
    "                            help='input batch size for training (default: 64)')\n",
    "        parser.add_argument('--epochs', type=int, default=14, metavar='N',\n",
    "                            help='number of epochs to train (default: 14)')\n",
    "        parser.add_argument('--lr', type=float, default=0.001, metavar='LR',\n",
    "                            help='learning rate (default: 0.001)')\n",
    "        parser.add_argument('--momentum', type=float, default=0.9, metavar='M',\n",
    "                            help='learning rate momentum (default: 0.9)')\n",
    "        parser.add_argument('--dataset', default=\"cifar10\", metavar='D')\n",
    "        parser.add_argument('--model', default=\"cnn\", metavar='M')\n",
    "        parser.add_argument('--optimizer', default=\"sgd\", metavar='O')\n",
    "        parser.add_argument('--criterion', default=\"cross_entropy_loss\", metavar='C')\n",
    "        parser.add_argument('--save-model', action='store_true', default=False,\n",
    "                            help='For Saving the current Model')\n",
    "        return parser.parse_args(args=args)\n",
    "  \n",
    "    args = fetch_args([\"--epochs\", \"1\", \"--batch-size\", \"16\"])\n",
    "    for arg in vars(args):\n",
    "        logger.info(\"[param] %s=%s\", arg, vars(args)[arg])\n",
    "    \n",
    "    use_cuda = torch.cuda.is_available()\n",
    "    device = torch.device(\"cuda\" if use_cuda else \"cpu\")\n",
    "    logger.info(\"[device] %s\", device)\n",
    "    \n",
    "    #画像の変形処理\n",
    "    transform = transforms.Compose(\n",
    "        [transforms.ToTensor(),\n",
    "         transforms.Normalize((0.5, 0.5, 0.5), (0.5, 0.5, 0.5))])\n",
    "\n",
    "    #CIFAR-10のtrain, testsetのロード\n",
    "    trainset = torchvision.datasets.CIFAR10(root='./data', train=True,\n",
    "                                            download=True, transform=transform)\n",
    "    \n",
    "    model_X = CNN().to(device)\n",
    "    model_Y = CNN().to(device)\n",
    "    optimizer_X = optim.SGD(model_X.parameters(), lr=args.lr, momentum=args.momentum)\n",
    "    optimizer_Y = optim.SGD(model_Y.parameters(), lr=args.lr, momentum=args.momentum)\n",
    "    criterion = nn.CrossEntropyLoss()\n",
    "    \n",
    "    # init\n",
    "    N = int(len(trainset) / 2)\n",
    "    indices = np.arange(2 * N)\n",
    "    A, B = indices[:N], indices[N:]\n",
    "    \n",
    "    log = {\"X_train\":[], \"X_test\":[], \"Y_train\":[], \"Y_test\":[], \"X_acc\":[], \"Y_acc\":[]}\n",
    "\n",
    "    for epoch in range(args.epochs):\n",
    "        logger.debug(\"-\" * 20)\n",
    "        logger.info(\"[system] epoch %d\", epoch)\n",
    "        \n",
    "        # Split\n",
    "        A_loader = torch.utils.data.DataLoader(\n",
    "            torch.utils.data.Subset(trainset, A), batch_size=args.batch_size)\n",
    "        B_loader = torch.utils.data.DataLoader(\n",
    "            torch.utils.data.Subset(trainset, B), batch_size=args.batch_size)\n",
    "        \n",
    "        # test B\n",
    "        logger.info(\"[system] train_a -> test_b\")\n",
    "        (_, loss_XA) = train(model_X, device, A_loader, optimizer_X, criterion, logger)\n",
    "        (testB, (loss_XB, acc_X)) = test(model_X, device, B_loader, criterion, logger)\n",
    "        \n",
    "        # test A\n",
    "        logger.info(\"[system] train_b -> test_a\")\n",
    "        (_, loss_YB) = train(model_Y, device, B_loader, optimizer_Y, criterion, logger)\n",
    "        (testA, (loss_YA, acc_Y)) = test(model_Y, device, A_loader, criterion, logger)\n",
    "        \n",
    "        # Swap\n",
    "        A_o, A_x = A[testA], A[np.logical_not(testA)]\n",
    "        B_o, B_x = B[testB], B[np.logical_not(testB)]\n",
    "        s = min(len(A_x), len(B_o))\n",
    "        A = np.concatenate([A_o, B_o[:s], A_x[s:]])\n",
    "        B = np.concatenate([B_x, A_x[:s], B_o[s:]])\n",
    "        \n",
    "        # log\n",
    "        logger.debug(\"[dump] test_b : %s...\", testB[:10])\n",
    "        logger.debug(\"[dump] test_a : %s...\", testA[:10])\n",
    "        logger.debug(\"[dump] swap : B -> A : %s...\", B_o[:s][:10])\n",
    "        logger.debug(\"[dump] swap : A -> B : %s...\", A_x[:s][:10])\n",
    "        logger.debug(\"[dump] X loss : %s / %s,\\tacc : %s\", loss_XA, loss_XB, acc_X)\n",
    "        logger.debug(\"[dump] Y loss : %s / %s,\\tacc : %s\", loss_YB, loss_YA, acc_Y)\n",
    "        log[\"X_train\"].append(loss_XA)\n",
    "        log[\"X_test\"].append(loss_XB)\n",
    "        log[\"Y_train\"].append(loss_YB)\n",
    "        log[\"Y_test\"].append(loss_YA)\n",
    "        log[\"X_acc\"].append(acc_X)\n",
    "        log[\"Y_acc\"].append(acc_Y)\n",
    "    \n",
    "    logger.debug(\"%s statistics %s\", \"-\" * 10, \"-\" * 10)\n",
    "    logger.info(\"[stat] X train loss : %s\", log[\"X_train\"])\n",
    "    logger.info(\"[stat] X test loss : %s\", log[\"X_test\"])\n",
    "    logger.info(\"[stat] Y train loss : %s\", log[\"Y_train\"])\n",
    "    logger.info(\"[stat] Y test loss : %s\", log[\"Y_test\"])\n",
    "    logger.info(\"[stat] X accuracy : %s\", log[\"X_acc\"])\n",
    "    logger.info(\"[stat] Y accuracy : %s\", log[\"Y_acc\"])\n",
    "    logger.info(\"[stat] elapsed time : %s[s]\", time.time() - start_time)\n",
    "    \n",
    "    if args.save_model:\n",
    "        logger.info(\"[system] saving...\")\n",
    "        torch.save(model.state_dict(), \"swap.pt\")\n",
    "    \n",
    "    logger.info(\"[system] finish\")\n",
    "\n",
    "if __name__ == '__main__':\n",
    "    main()"
   ]
  },
  {
   "cell_type": "code",
   "execution_count": null,
   "metadata": {},
   "outputs": [],
   "source": [
    "#画像の変形処理\n",
    "transform = transforms.Compose(\n",
    "    [transforms.ToTensor(),\n",
    "     transforms.Normalize((0.5, 0.5, 0.5), (0.5, 0.5, 0.5))])\n",
    "\n",
    "#CIFAR-10のtrain, testsetのロード\n",
    "#変形はtransformを適用\n",
    "trainset = torchvision.datasets.CIFAR10(root='./data', train=True,\n",
    "                                        download=True, transform=transform)\n",
    "testset = torchvision.datasets.CIFAR10(root='./data', train=False,\n",
    "                                       download=True, transform=transform)\n",
    "\n",
    "#DataLoaderの適用->これによりバッチの割り当て・シャッフルをまとめて行うことができる\n",
    "#batch_sizeでバッチサイズを指定\n",
    "#num_workersでいくつのコアでデータをロードするか指定(デフォルトはメインのみ)\n",
    "trainloader = torch.utils.data.DataLoader(trainset, batch_size=16,\n",
    "                                          shuffle=True, num_workers=2)\n",
    "testloader = torch.utils.data.DataLoader(testset, batch_size=16,\n",
    "                                         shuffle=False, num_workers=2)"
   ]
  },
  {
   "cell_type": "code",
   "execution_count": 79,
   "metadata": {},
   "outputs": [
    {
     "data": {
      "text/plain": [
       "array([False,  True])"
      ]
     },
     "execution_count": 79,
     "metadata": {},
     "output_type": "execute_result"
    }
   ],
   "source": [
    "r = [torch.tensor(False), torch.tensor(True)]\n",
    "torch.tensor(r).numpy()\n"
   ]
  },
  {
   "cell_type": "code",
   "execution_count": 85,
   "metadata": {},
   "outputs": [],
   "source": [
    "import csv\n",
    "\n",
    "log = {\"A_acc\":[\"a\", \"bb\"], \"B_acc\":[1, 2]}\n",
    "\n",
    "with open(\"stock.csv\", \"w\", encoding=\"utf-8\") as f:\n",
    "    writer = csv.writer(f, lineterminator=\"\\n\")\n",
    "    writer.writerows(log)"
   ]
  },
  {
   "cell_type": "code",
   "execution_count": 102,
   "metadata": {},
   "outputs": [
    {
     "name": "stdout",
     "output_type": "stream",
     "text": [
      "a\n"
     ]
    }
   ],
   "source": [
    "from logging import getLogger, StreamHandler, DEBUG\n",
    "logger = getLogger(__name__)\n",
    "handler = StreamHandler()\n",
    "handler.setLevel(DEBUG)\n",
    "logger.setLevel(DEBUG)\n",
    "logger.addHandler(handler)\n",
    "logger.propagate = False\n",
    "\n",
    "print(\"a\")"
   ]
  },
  {
   "cell_type": "code",
   "execution_count": 121,
   "metadata": {},
   "outputs": [
    {
     "name": "stderr",
     "output_type": "stream",
     "text": [
      "messagea\n",
      "messagea\n",
      "messagea\n",
      "messagea\n",
      "messagea\n",
      "messagea\n",
      "messagea\n",
      "messagea\n",
      "messagea\n",
      "messagea\n",
      "mess\n",
      "mess\n",
      "mess\n",
      "mess\n",
      "mess\n",
      "mess\n",
      "mess\n",
      "mess\n",
      "mess\n",
      "mess\n"
     ]
    }
   ],
   "source": [
    "# from logging import getLogger\n",
    "logger = getLogger(__name__)\n",
    "\n",
    "from logging import StreamHandler, basicConfig, DEBUG, getLogger, Formatter\n",
    "\n",
    "def setup_logger(log_filename):\n",
    "    format_str = '%(asctime)s@%(name)s %(levelname)s # %(message)s'\n",
    "    basicConfig(filename=log_filename, level=DEBUG, format=format_str)\n",
    "    stream_handler = StreamHandler()\n",
    "    stream_handler.setFormatter(Formatter(format_str))\n",
    "    getLogger().addHandler(stream_handler)\n",
    "    \n",
    "\n",
    "logger.info(\"messagea\")\n",
    "\n",
    "logger.info(\"mess\")\n"
   ]
  },
  {
   "cell_type": "code",
   "execution_count": 120,
   "metadata": {},
   "outputs": [],
   "source": [
    "setup_logger(\"test\")"
   ]
  },
  {
   "cell_type": "code",
   "execution_count": 124,
   "metadata": {},
   "outputs": [
    {
     "name": "stderr",
     "output_type": "stream",
     "text": [
      "aa\n",
      "aa\n",
      "aa\n",
      "aa\n",
      "aa\n",
      "aa\n",
      "aa\n",
      "aa\n",
      "aa\n",
      "aa\n"
     ]
    },
    {
     "name": "stdout",
     "output_type": "stream",
     "text": [
      "<Logger __main__ (DEBUG)>\n"
     ]
    }
   ],
   "source": [
    "from logging import StreamHandler, basicConfig, INFO, getLogger, Formatter, shutdown\n",
    "\n",
    "def setup_logger(log_filename):\n",
    "    format_str = '%(asctime)s@%(name)s %(levelname)s # %(message)s'\n",
    "    basicConfig(filename=log_filename, level=INFO, format=format_str)\n",
    "    stream_handler = StreamHandler()\n",
    "    stream_handler.setFormatter(Formatter(format_str))\n",
    "    getLogger().addHandler(stream_handler)\n",
    "\n",
    "def kill_logger():\n",
    "    # for l in getLogger(__name__):\n",
    "    # logger = loggers.get(l)\n",
    "    for h in logger.handlers:\n",
    "        logger.removeHandler(h)\n",
    "    # getLogger().removeHandler()\n",
    "    shutdown()\n",
    "    return\n",
    "\n",
    "logger = getLogger(__name__)\n",
    "setup_logger(\"log.txt\")\n",
    "\n",
    "logger.info(\"aa\")\n",
    "print(logger)\n",
    "# kill_logger()"
   ]
  },
  {
   "cell_type": "code",
   "execution_count": 144,
   "metadata": {},
   "outputs": [
    {
     "name": "stderr",
     "output_type": "stream",
     "text": [
      "2020-04-29 19:33:53,564: RootLogger: error\n",
      "2020-04-29 19:33:53,566: myapp: error\n",
      "2020-04-29 19:33:53,568: env: error\n"
     ]
    }
   ],
   "source": [
    "import json\n",
    "from logging.config import dictConfig\n",
    "\n",
    "with open('logging.json') as f:\n",
    "    dictConfig(json.load(f))\n",
    "\n",
    "\n",
    "# 動作確認\n",
    "from logging import getLogger\n",
    "\n",
    "# RootLogger: error のみが標準エラーに\n",
    "root_logger = getLogger()\n",
    "root_logger.debug('RootLogger: debug')\n",
    "root_logger.error('RootLogger: error')\n",
    "\n",
    "# myapp: debug は指定したファイルに\n",
    "# myapp: error は指定したファイルと標準エラーに\n",
    "myapp_logger = getLogger('env')\n",
    "myapp_logger.debug('myapp: debug')\n",
    "myapp_logger.error('myapp: error')\n",
    "myapp_logger = getLogger('env.model')\n",
    "myapp_logger.error('env: error')\n",
    "\n",
    "# これはすべて無視される\n",
    "hoge_logger = getLogger('hoge.fuga.piyo')\n",
    "hoge_logger.debug('hoge: debug')\n",
    "hoge_logger.error('hoge: error')"
   ]
  },
  {
   "cell_type": "code",
   "execution_count": 160,
   "metadata": {},
   "outputs": [
    {
     "name": "stdout",
     "output_type": "stream",
     "text": [
      "foo BAR\n",
      "{'foo': 'BAR'}\n"
     ]
    }
   ],
   "source": [
    "parser = argparse.ArgumentParser()\n",
    "parser.add_argument('--foo')\n",
    "args = parser.parse_args(['--foo', 'BAR'])\n",
    "for a in vars(args):\n",
    "    print(a, vars(args)[a])\n",
    "print(vars(args))\n"
   ]
  },
  {
   "cell_type": "code",
   "execution_count": 21,
   "metadata": {},
   "outputs": [],
   "source": [
    "# exp main\n",
    "m_x_train_loss = [2.288025379180908, 1.854137897491455, 1.7273635864257812, 1.45737886428833, 1.3322714567184448, 1.3078572750091553, 1.3629910945892334, 1.3265225887298584, 1.2427623271942139, 1.178240180015564, 1.094214677810669, 1.1634907722473145, 1.0996596813201904, 1.1158974170684814, 1.0118272304534912, 1.0208563804626465, 1.0107688903808594, 0.8501958847045898, 0.8958674073219299, 0.774604320526123, 0.7631874084472656, 0.7437644004821777, 0.8369741439819336, 0.798240065574646, 1.2795028686523438]\n",
    "m_x_test_loss = [2.240487919506627, 2.0081781863556105, 1.9855095264778944, 2.1642124908365505, 2.3438860632560226, 2.3660928456736006, 2.4317822350345204, 2.620276643233809, 2.7199758346921272, 2.8730840539215317, 2.9618033839965276, 3.00621501852592, 3.158214510707465, 3.1677522714215827, 3.189254136819223, 3.188377470788632, 3.2310182273349772, 3.2078502377446307, 3.2170157574417493, 3.281280594000203, 3.420853141859717, 3.5144480876028728, 3.615827125230815, 3.701036387235784, 3.7283214680750403]\n",
    "m_y_train_loss = [2.4142141342163086, 1.5543699264526367, 0.19778665900230408, 0.23293083906173706, 0.13564211130142212, 0.19824475049972534, 0.8459981679916382, 0.01066499948501587, 0.07485067844390869, 0.5425605177879333, 0.7458614110946655, 0.21733249723911285, 1.2879126071929932, 0.04729515314102173, 0.07440656423568726, 0.6998357772827148, 0.0025858283042907715, 0.15520411729812622, 0.01651930809020996, 0.1700097918510437, 0.00644761323928833, 0.11731904745101929, 0.2039785385131836, 0.018861770629882812, 0.9370211958885193]\n",
    "m_y_test_loss = [2.0330521650064166, 1.7720401763000782, 6.50136181217352, 3.333354907583443, 8.564231173386196, 2.7435420698850335, 4.255091821296964, 3.8134682301243603, 3.5727248711896418, 2.9867952860896585, 2.8871546805057475, 3.9461203044994244, 2.6464209466772206, 4.867463631101396, 3.2882710109612, 5.5193515073886985, 3.2386772191951616, 3.6259085398050583, 4.360217468499641, 4.265082189795381, 4.6662463931103435, 4.5525197658451875, 4.234833705038194, 4.781921831703842, 4.3116312874046105]\n",
    "m_x_acc = [15.468, 24.508, 20.668, 13.52, 7.556, 7.096, 6.864, 4.98, 3.176, 3.724, 2.948, 3.096, 2.468, 1.672, 2.444, 1.996, 1.92, 2.776, 1.904, 1.66, 1.004, 0.896, 0.704, 0.88, 0.992]\n",
    "m_y_acc = [26.676, 31.244, 16.52, 32.64, 10.116, 31.72, 5.884, 28.516, 12.96, 25.568, 25.124, 23.568, 32.108, 23.204, 34.372, 26.544, 34.028, 33.38, 33.416, 33.964, 32.972, 34.04, 36.92, 38.436, 38.348]\n"
   ]
  },
  {
   "cell_type": "code",
   "execution_count": 22,
   "metadata": {},
   "outputs": [],
   "source": [
    "# exp baseline\n",
    "b_x_train_loss = [1.8339635133743286, 1.6075594425201416, 1.5646916627883911, 1.4751136302947998, 1.361932396888733, 1.2491068840026855, 1.138421654701233, 1.0759618282318115, 1.0412476062774658, 0.9572204351425171, 0.9483405351638794, 0.9316418766975403, 0.8921067118644714, 0.8888096809387207, 0.8420193791389465, 0.7329766750335693, 0.6785648465156555, 0.6508007645606995, 0.5793047547340393, 0.5481230616569519, 0.48123276233673096, 0.44880324602127075, 0.42180633544921875, 0.30240172147750854, 0.31743207573890686]\n",
    "b_x_test_loss = [2.1110229269480447, 1.6705207288532171, 1.5288082731509927, 1.4491184713820655, 1.3900613765722654, 1.3508085648523869, 1.3145048611452392, 1.292858632573392, 1.2760242365982315, 1.2652753282264495, 1.252878129215326, 1.2460683285427339, 1.251505480942174, 1.258464446681017, 1.2671315856683125, 1.2606168866958363, 1.2823017077879195, 1.3184130398874776, 1.355862097563228, 1.38871339186597, 1.4275211941639125, 1.4860073058596042, 1.5128921037176368, 1.5769022961343167, 1.6559533543374703]\n",
    "b_x_acc = [24.172, 37.656, 43.86, 47.3, 49.644, 51.416, 53.224, 54.244, 55.052, 55.84, 56.492, 56.984, 57.256, 57.324, 57.352, 57.912, 57.696, 57.424, 57.16, 56.988, 56.94, 56.74, 56.644, 56.36, 55.98]\n"
   ]
  },
  {
   "cell_type": "code",
   "execution_count": 23,
   "metadata": {},
   "outputs": [],
   "source": [
    "# exp notrain\n",
    "n_x_test_loss = [2.30429244346521, 2.314543409829558, 2.314521041346603, 2.3145063120206806, 2.314521041346603, 2.3145063120206806, 2.314521041346603, 2.3145063120206806, 2.314521041346603, 2.3145063120206806, 2.314521041346603, 2.3145063120206806, 2.314521041346603, 2.3145063120206806, 2.314521041346603, 2.3145063120206806, 2.314521041346603, 2.3145063120206806, 2.314521041346603, 2.3145063120206806, 2.314521041346603, 2.3145063120206806, 2.314521041346603, 2.3145063120206806, 2.314521041346603]\n",
    "n_y_test_loss = [2.304065739277152, 2.30612972632327, 2.3061281867463546, 2.3061297278486608, 2.3061281867463546, 2.3061297278486608, 2.3061281867463546, 2.3061297278486608, 2.3061281867463546, 2.3061297278486608, 2.3061281867463546, 2.3061297278486608, 2.3061281867463546, 2.3061297278486608, 2.3061281867463546, 2.3061297278486608, 2.3061281867463546, 2.3061297278486608, 2.3061281867463546, 2.3061297278486608, 2.3061281867463546, 2.3061297278486608, 2.3061281867463546, 2.3061297278486608, 2.3061281867463546]\n",
    "n_x_acc = [10.252, 1.148, 1.148, 1.148, 1.148, 1.148, 1.148, 1.148, 1.148, 1.148, 1.148, 1.148, 1.148, 1.148, 1.148, 1.148, 1.148, 1.148, 1.148, 1.148, 1.148, 1.148, 1.148, 1.148, 1.148]\n",
    "n_y_acc = [9.868, 9.872, 9.872, 9.872, 9.872, 9.872, 9.872, 9.872, 9.872, 9.872, 9.872, 9.872, 9.872, 9.872, 9.872, 9.872, 9.872, 9.872, 9.872, 9.872, 9.872, 9.872, 9.872, 9.872, 9.872]\n"
   ]
  },
  {
   "cell_type": "code",
   "execution_count": 37,
   "metadata": {},
   "outputs": [
    {
     "data": {
      "image/png": "[encoded data removed]",
      "text/plain": [
       "<Figure size 432x288 with 1 Axes>"
      ]
     },
     "metadata": {
      "needs_background": "light"
     },
     "output_type": "display_data"
    }
   ],
   "source": [
    "import matplotlib.pyplot as plt\n",
    "\n",
    "fig = plt.figure()\n",
    "plt.plot(np.arange(25), m_x_acc, label=\"exp1:step3\")\n",
    "plt.plot(np.arange(25), m_y_acc, label=\"exp1:step4\")\n",
    "plt.plot(np.arange(25), n_x_acc, label=\"exp2:step3\", linestyle=\"--\")\n",
    "plt.plot(np.arange(25), n_y_acc, label=\"exp2:step4\", linestyle=\"--\")\n",
    "plt.plot(np.arange(25), b_x_acc, label=\"exp3\", linewidth = 2)\n",
    "plt.xlabel(\"epochs\")\n",
    "plt.ylabel(\"accuracy[%]\")\n",
    "# plt.title(\"compare accuracy\")\n",
    "plt.legend()\n",
    "plt.show()\n",
    "fig.savefig(\"accuracy.png\")"
   ]
  },
  {
   "cell_type": "code",
   "execution_count": 34,
   "metadata": {},
   "outputs": [
    {
     "data": {
      "image/png": "[encoded data removed]",
      "text/plain": [
       "<Figure size 432x288 with 1 Axes>"
      ]
     },
     "metadata": {
      "needs_background": "light"
     },
     "output_type": "display_data"
    }
   ],
   "source": [
    "import matplotlib.pyplot as plt\n",
    "\n",
    "fig = plt.figure()\n",
    "plt.plot(np.arange(25), m_x_test_loss, label=\"exp1:step3\")\n",
    "plt.plot(np.arange(25), m_y_test_loss, label=\"exp1:step4\")\n",
    "plt.plot(np.arange(25), n_x_test_loss, label=\"exp2:step3\", linestyle=\"--\")\n",
    "plt.plot(np.arange(25), n_y_test_loss, label=\"exp2:step4\", linestyle=\"--\")\n",
    "plt.plot(np.arange(25), b_x_test_loss, label=\"exp3\", linewidth = 2)\n",
    "plt.xlabel(\"epochs\")\n",
    "plt.ylabel(\"loss\")\n",
    "# plt.title(\"compare accuracy\")\n",
    "plt.legend()\n",
    "plt.show()\n",
    "fig.savefig(\"loss.png\")"
   ]
  },
  {
   "cell_type": "code",
   "execution_count": null,
   "metadata": {},
   "outputs": [],
   "source": []
  }
 ],
 "metadata": {
  "kernelspec": {
   "display_name": "Python 3",
   "language": "python",
   "name": "python3"
  },
  "language_info": {
   "codemirror_mode": {
    "name": "ipython",
    "version": 3
   },
   "file_extension": ".py",
   "mimetype": "text/x-python",
   "name": "python",
   "nbconvert_exporter": "python",
   "pygments_lexer": "ipython3",
   "version": "3.7.3"
  }
 },
 "nbformat": 4,
 "nbformat_minor": 2
}
