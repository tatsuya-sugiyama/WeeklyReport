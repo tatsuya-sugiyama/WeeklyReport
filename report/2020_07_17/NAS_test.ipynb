{
  "nbformat": 4,
  "nbformat_minor": 0,
  "metadata": {
    "colab": {
      "name": "NAS test.ipynb",
      "provenance": [],
      "collapsed_sections": []
    },
    "kernelspec": {
      "name": "python3",
      "display_name": "Python 3"
    }
  },
  "cells": [
    {
      "cell_type": "code",
      "metadata": {
        "id": "tBu5wn0eenjg",
        "colab_type": "code",
        "colab": {}
      },
      "source": [
        "import torch #基本モジュール\n",
        "from torch.autograd import Variable #自動微分用\n",
        "import torch.nn as nn #ネットワーク構築用\n",
        "import torch.optim as optim #最適化関数\n",
        "import torch.nn.functional as F #ネットワーク用の様々な関数\n",
        "import torch.utils.data #データセット読み込み関連\n",
        "import torchvision #画像関連\n",
        "from torch import Tensor\n",
        "from torchvision import datasets, models, transforms #画像用データセット諸々\n",
        "\n",
        "import numpy as np\n",
        "import argparse\n",
        "import json\n",
        "from logging.config import dictConfig\n",
        "from logging import getLogger\n",
        "import os\n",
        "import time\n",
        "from google.colab import files"
      ],
      "execution_count": 4,
      "outputs": []
    },
    {
      "cell_type": "code",
      "metadata": {
        "id": "_EmZOGnOewxI",
        "colab_type": "code",
        "colab": {}
      },
      "source": [
        "# class MyNAS(nn.Module):\n",
        "#     def __init__(self):\n",
        "#         super(MyNAS, self).__init__()\n",
        "#         self.theta = torch.randn(10, 10)\n",
        "        \n",
        "\n",
        "#     def forward(self, x):\n",
        "\n",
        "#     def sampling(self, theta):\n",
        "#       # onehot\n",
        "#       a = torch.zeros(theta.shape)\n",
        "#       return a"
      ],
      "execution_count": 3,
      "outputs": []
    },
    {
      "cell_type": "code",
      "metadata": {
        "id": "IUEe2wW3lddC",
        "colab_type": "code",
        "colab": {}
      },
      "source": [
        "\n",
        "class Zero(nn.Module):\n",
        "  def __init__(self, *args, **kwargs):\n",
        "    super(Zero, self).__init__()\n",
        "\n",
        "  def forward(self, input: Tensor) -> Tensor:\n",
        "    return None"
      ],
      "execution_count": 4,
      "outputs": []
    },
    {
      "cell_type": "code",
      "metadata": {
        "id": "XBw-skZelvsj",
        "colab_type": "code",
        "colab": {}
      },
      "source": [
        "# operators : list\n",
        "class Edge(nn.Module):\n",
        "  def __init__(self, operators):\n",
        "    super(Edge, self).__init__()\n",
        "    self.operators = operators\n",
        "\n",
        "    rand = torch.randn(len(operators), requires_grad=True) # pro dis\n",
        "    self.theta = rand / torch.sum(rand)\n",
        "\n",
        "  def forward(self, input: Tensor) -> Tensor:\n",
        "    output = torch.zeros(input.shape, requires_grad=True)\n",
        "    for (theta_i, operator) in zip(self.theta, self.operators):\n",
        "      if operator == None:\n",
        "        continue\n",
        "      output = output +  theta_i * operator(input)\n",
        "    \n",
        "    return output"
      ],
      "execution_count": 6,
      "outputs": []
    },
    {
      "cell_type": "code",
      "metadata": {
        "id": "PTuASgaXt5YA",
        "colab_type": "code",
        "colab": {}
      },
      "source": [
        "# node_num : int\n",
        "# edges : list[Edge]\n",
        "# inputNode : 0, 1\n",
        "# outputNode : -1\n",
        "class Cell(nn.Module):\n",
        "  def __init__(self, operators):\n",
        "    super(Cell, self).__init__()\n",
        "\n",
        "    self.node_num = 3\n",
        "\n",
        "    # self.ref = [(0, 1), (0, 2), (1, 2)]\n",
        "    self.ref = [(0, 2)]\n",
        "    self.edges = [Edge(operators) for _ in self.ref]\n",
        "\n",
        "  def forward(self, input) -> Tensor:\n",
        "    nodes = [torch.zeros(*list(input.shape), requires_grad=True) for _ in range(self.node_num)]\n",
        "    nodes[0] = input\n",
        "    # nodes[1] = ct1\n",
        "\n",
        "    for idx, (inref, outref) in enumerate(self.ref): # zip ref & edges\n",
        "      nodes[outref] = nodes[outref] + self.edges[idx](nodes[inref])\n",
        "    \n",
        "    return nodes[-1]"
      ],
      "execution_count": 7,
      "outputs": []
    },
    {
      "cell_type": "code",
      "metadata": {
        "id": "R8JNPcSvajva",
        "colab_type": "code",
        "colab": {}
      },
      "source": [
        "shape = [3, 2, 5]\n",
        "a = torch.zeros(*shape, requires_grad=True)\n",
        "b = torch.ones(*shape, requires_grad=True)\n",
        "a = a + b\n",
        "\n",
        "a[0][0][0].backward()"
      ],
      "execution_count": 44,
      "outputs": []
    },
    {
      "cell_type": "code",
      "metadata": {
        "id": "F96DEDZt068O",
        "colab_type": "code",
        "colab": {}
      },
      "source": [
        "class MyModel(nn.Module):\n",
        "  def __init__(self, ):\n",
        "    super(MyModel, self).__init__()\n",
        "    # operators = [nn.Conv2d(3, 3, 3, padding=1), nn.Identity(), None]\n",
        "    operators = [nn.Identity()]\n",
        "    self.cell = Cell(operators)\n",
        "    self.depth = 4\n",
        "    # self.input_num = 2\n",
        "    # self.output_num = 1\n",
        "\n",
        "  def forward(self, input) -> Tensor:\n",
        "    shape = list(input.shape)\n",
        "    inputs = []\n",
        "\n",
        "    # increase channel num\n",
        "\n",
        "    for i in range(self.depth):\n",
        "      ct2 = inputs[i-2] if i-2 >= 0 else torch.zeros(*shape, requires_grad=True)\n",
        "      ct1 = inputs[i-1] if i-1 >= 0 else torch.zeros(*shape, requires_grad=True)\n",
        "      input = self.cell(ct2, ct1)\n",
        "      inputs.append(input.clone()) # .retain_grad()\n",
        "\n",
        "    linear = nn.Linear(3 * 32 * 32, 10)\n",
        "    input = input.view(16, -1)\n",
        "    input = linear(input)\n",
        "\n",
        "    return input"
      ],
      "execution_count": 30,
      "outputs": []
    },
    {
      "cell_type": "code",
      "metadata": {
        "id": "U_0YBLqEQ43f",
        "colab_type": "code",
        "colab": {
          "base_uri": "https://localhost:8080/",
          "height": 34
        },
        "outputId": "6ba464b6-972b-4804-9673-7da47cdaf5bd"
      },
      "source": [
        "class Package(nn.Module):\n",
        "  def __init__(self, layers):\n",
        "    super().__init__()\n",
        "    self.layers = layers\n",
        "    self.model = nn.Sequential(*layers, nn.AdaptiveAvgPool2d(1), )\n",
        "    self.class_num = 10\n",
        "\n",
        "  def forward(self, input) -> Tensor:\n",
        "    x = self.model(input)\n",
        "    x = x.view(x.shape[0], -1)\n",
        "    x = nn.Linear(x.shape[1], self.class_num)(x)\n",
        "    return x\n",
        "\n",
        "operators = [nn.Identity()]\n",
        "layers = [Cell(operators)]\n",
        "model = Package(layers)\n",
        "input = torch.randn(16, 3, 32, 32)\n",
        "labels = torch.randn(16, 10).argmax(1)\n",
        "criterion = nn.CrossEntropyLoss()\n",
        "\n",
        "output = model(input)\n",
        "loss = criterion(output, labels)\n",
        "loss.backward()\n",
        "loss"
      ],
      "execution_count": 12,
      "outputs": [
        {
          "output_type": "execute_result",
          "data": {
            "text/plain": [
              "tensor(2.4969, grad_fn=<NllLossBackward>)"
            ]
          },
          "metadata": {
            "tags": []
          },
          "execution_count": 12
        }
      ]
    },
    {
      "cell_type": "code",
      "metadata": {
        "id": "L69_osPKUkuG",
        "colab_type": "code",
        "colab": {
          "base_uri": "https://localhost:8080/",
          "height": 34
        },
        "outputId": "5c905fa5-aa96-4501-df60-7c3cf562bd2f"
      },
      "source": [
        "i = torch.randn(3, 2, 1)\n",
        "p = torch.zeros(2, 1, 1, 3)\n",
        "# i.view(2, -1, 1, 1, 1)\n",
        "i = i.view_as(p)\n",
        "i.shape"
      ],
      "execution_count": 23,
      "outputs": [
        {
          "output_type": "execute_result",
          "data": {
            "text/plain": [
              "torch.Size([2, 1, 1, 3])"
            ]
          },
          "metadata": {
            "tags": []
          },
          "execution_count": 23
        }
      ]
    },
    {
      "cell_type": "code",
      "metadata": {
        "id": "psHgz5EKnAdA",
        "colab_type": "code",
        "colab": {}
      },
      "source": [
        "import unittest\n",
        "\n",
        "def tensor_equal(x, y):\n",
        "  return (torch.sum(x == y) == x.view(-1).shape[0]).item()\n",
        "\n",
        "class TestEdge(unittest.TestCase):\n",
        "  def test_id(self):\n",
        "    input = torch.randn(1, 3, 32, 32)\n",
        "    model = Edge(theta=torch.tensor([0.0, 1.0, 0.0]))\n",
        "    output = model(input)\n",
        "    self.assertEqual(tensor_equal(input, output), True)\n",
        "\n",
        "if __name__ == '__main__':\n",
        "    unittest.main(argv=['first-arg-is-ignored'], exit=False)"
      ],
      "execution_count": null,
      "outputs": []
    }
  ]
}